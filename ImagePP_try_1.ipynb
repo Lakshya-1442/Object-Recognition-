{
  "nbformat": 4,
  "nbformat_minor": 0,
  "metadata": {
    "colab": {
      "provenance": [],
      "authorship_tag": "ABX9TyN8hqMw56i1ql4HuuaBoTXx"
    },
    "kernelspec": {
      "name": "python3",
      "display_name": "Python 3"
    },
    "language_info": {
      "name": "python"
    }
  },
  "cells": [
    {
      "cell_type": "code",
      "execution_count": null,
      "metadata": {
        "id": "n1lGr_Fu_K-6"
      },
      "outputs": [],
      "source": [
        "import os\n",
        "import zipfile\n",
        "import json\n",
        "from PIL import Image, ImageEnhance\n",
        "import cv2\n",
        "import matplotlib.pyplot as plt"
      ]
    },
    {
      "cell_type": "code",
      "source": [
        "# paths for the zip file, metadata file, and output folder\n",
        "from google.colab import drive\n",
        "drive.mount('/content/drive')\n",
        "zip_file_path = \"/content/drive/My Drive/val2017\"\n",
        "metadata_file_path = \"/content/drive/My Drive/instances_val2017/instances_val2017.json\"\n",
        "output_folder = \"path/to/your/output_folder\"\n",
        "os.makedirs(output_folder, exist_ok=True)"
      ],
      "metadata": {
        "colab": {
          "base_uri": "https://localhost:8080/"
        },
        "id": "FDfr5UcbAsMN",
        "outputId": "1c8314d8-97e2-4ae7-e5cc-b837c315fdc6"
      },
      "execution_count": null,
      "outputs": [
        {
          "output_type": "stream",
          "name": "stdout",
          "text": [
            "Drive already mounted at /content/drive; to attempt to forcibly remount, call drive.mount(\"/content/drive\", force_remount=True).\n"
          ]
        }
      ]
    },
    {
      "cell_type": "code",
      "source": [
        "# Define resize dimensions and brightness factor\n",
        "resize_dims = (128, 128)\n",
        "brightness_factor = 1.5\n"
      ],
      "metadata": {
        "id": "YLZ5bW42AwQP"
      },
      "execution_count": null,
      "outputs": []
    },
    {
      "cell_type": "code",
      "source": [
        "# Load metadata from JSON file\n",
        "with open(metadata_file_path, 'r') as f:\n",
        "    metadata = json.load(f)\n",
        "\n",
        "# Open the ZIP file\n",
        "with zipfile.ZipFile(zip_file_path, 'r') as zip_ref:\n",
        "    # Process each image in the zip file\n",
        "    for file_info in zip_ref.infolist():\n",
        "        if file_info.filename.endswith(\".jpg\") or file_info.filename.endswith(\".png\"):\n",
        "            with zip_ref.open(file_info) as file:\n",
        "                # Open image with Pillow\n",
        "                img = Image.open(file)\n",
        "                img = img.convert('RGB')"
      ],
      "metadata": {
        "id": "dY9OsJdyA18B"
      },
      "execution_count": null,
      "outputs": []
    },
    {
      "cell_type": "code",
      "source": [
        " # Resize the image\n",
        "img_resized = img.resize(250,250)"
      ],
      "metadata": {
        "id": "JFq6okgXA6XL"
      },
      "execution_count": null,
      "outputs": []
    },
    {
      "cell_type": "code",
      "source": [
        " # Process rotations and save images\n",
        "                for angle in [0, 90, 180, 270]:\n",
        "                    img_rotated = img_resized.rotate(angle)\n",
        "                    rotated_filename = f\"{os.path.splitext(file_info.filename)[0]}_rotated_{angle}.jpg\"\n",
        "                    rotated_path = os.path.join(output_folder, rotated_filename)\n",
        "                    img_rotated.save(rotated_path)"
      ],
      "metadata": {
        "id": "VIqSMld4BCau"
      },
      "execution_count": null,
      "outputs": []
    },
    {
      "cell_type": "code",
      "source": [
        " # Update metadata for rotated images\n",
        "                    metadata[rotated_filename] = {\n",
        "                        \"original_file\": file_info.filename,\n",
        "                        \"rotation_angle\": angle,\n",
        "                        \"brightness\": 1.0,  # Default brightness\n",
        "                        \"size\": resize_dims\n",
        "                    }"
      ],
      "metadata": {
        "id": "274Mbkx-BGqC"
      },
      "execution_count": null,
      "outputs": []
    },
    {
      "cell_type": "code",
      "source": [
        " # Increase brightness\n",
        "                    enhancer = ImageEnhance.Brightness(img_rotated)\n",
        "                    img_brightened = enhancer.enhance(brightness_factor)\n",
        "                    brightened_filename = f\"{os.path.splitext(file_info.filename)[0]}_rotated_{angle}_brightened.jpg\"\n",
        "                    brightened_path = os.path.join(output_folder, brightened_filename)\n",
        "                    img_brightened.save(brightened_path)"
      ],
      "metadata": {
        "id": "T2Bif0LxBNec"
      },
      "execution_count": null,
      "outputs": []
    },
    {
      "cell_type": "code",
      "source": [
        "# Update metadata for brightened images\n",
        "                    metadata[brightened_filename] = {\n",
        "                        \"original_file\": file_info.filename,\n",
        "                        \"rotation_angle\": angle,\n",
        "                        \"brightness\": brightness_factor,\n",
        "                        \"size\": resize_dims\n",
        "                    }"
      ],
      "metadata": {
        "id": "1Br5Ob58BQlv"
      },
      "execution_count": null,
      "outputs": []
    }
  ]
}