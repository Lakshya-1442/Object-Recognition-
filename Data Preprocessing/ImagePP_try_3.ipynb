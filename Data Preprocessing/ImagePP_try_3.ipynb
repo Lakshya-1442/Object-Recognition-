{
  "nbformat": 4,
  "nbformat_minor": 0,
  "metadata": {
    "colab": {
      "provenance": [],
      "authorship_tag": "ABX9TyPcWgl35TTItXCAvdBzZjW+"
    },
    "kernelspec": {
      "name": "python3",
      "display_name": "Python 3"
    },
    "language_info": {
      "name": "python"
    }
  },
  "cells": [
    {
      "cell_type": "code",
      "execution_count": 1,
      "metadata": {
        "colab": {
          "base_uri": "https://localhost:8080/"
        },
        "id": "CvfSJ7AX1Byi",
        "outputId": "bc615c31-c172-4f8b-8e58-e5e8f51bdaee"
      },
      "outputs": [
        {
          "output_type": "stream",
          "name": "stdout",
          "text": [
            "Mounted at /content/drive\n"
          ]
        }
      ],
      "source": [
        "import cv2\n",
        "import numpy as np\n",
        "import json\n",
        "import matplotlib.pyplot as plt\n",
        "import random\n",
        "from google.colab import drive\n",
        "\n",
        "# Mount Google Drive\n",
        "drive.mount('/content/drive')\n",
        "\n",
        "# Load metadata from JSON file\n",
        "metadata_path = ('/content/drive/My Drive/instances_val2017/instances_val2017.json')\n",
        "with open(metadata_path) as json_file:\n",
        "    metadata = json.load(json_file)\n",
        "\n",
        "# Function to increase brightness\n",
        "def increase_brightness(image, value=30):\n",
        "    return cv2.convertScaleAbs(image, alpha=1, beta=value)\n",
        "\n",
        "# Function to rotate image\n",
        "def rotate_image(image, angle):\n",
        "    if angle not in [90, 180, 270]:\n",
        "        raise ValueError(\"Angle must be 90, 180, or 270 degrees.\")\n",
        "    if angle == 90:\n",
        "        return cv2.rotate(image, cv2.ROTATE_90_CLOCKWISE)\n",
        "    elif angle == 180:\n",
        "        return cv2.rotate(image, cv2.ROTATE_180)\n",
        "    elif angle == 270:\n",
        "        return cv2.rotate(image, cv2.ROTATE_90_COUNTERCLOCKWISE)\n",
        "\n",
        "# Function to convert image to grayscale\n",
        "def convert_to_grayscale(image):\n",
        "    return cv2.cvtColor(image, cv2.COLOR_BGR2GRAY)\n",
        "\n",
        "# Function to draw bounding boxes\n",
        "def draw_bounding_boxes(image, boxes):\n",
        "    for box in boxes:\n",
        "        cv2.rectangle(image, (box[0], box[1]), (box[2], box[3]), (255, 0, 0), 2)  # Draw a red box\n",
        "    return image\n",
        "\n",
        "# Function to resize image\n",
        "def resize_image(image, width, height):\n",
        "    return cv2.resize(image, (width, height))\n",
        "\n",
        "# Function to flip image\n",
        "def flip_image(image, flip_code):\n",
        "    return cv2.flip(image, flip_code)\n",
        "\n"
      ]
    },
    {
      "cell_type": "code",
      "source": [
        "# Randomly select an image from the dataset\n",
        "def process_random_image():\n",
        "    random_index = random.randint(0, len(metadata) - 1)\n",
        "    row = metadata[random_index]\n",
        "    img_path = '/content/drive/My Drive/val2017/000000581781.jpg'\n",
        "    image = cv2.imread(img_path)\n",
        "\n",
        "    # Resize the image (set desired width and height)\n",
        "    desired_width = 300  # Set your desired width\n",
        "    desired_height = 300  # Set your desired height\n",
        "    resized_image = resize_image(image, desired_width, desired_height)\n",
        "\n",
        "    # 1. Increase Brightness\n",
        "    bright_image = increase_brightness(resized_image)\n",
        "    plt.imshow(cv2.cvtColor(bright_image, cv2.COLOR_BGR2RGB))\n",
        "    plt.title('Increased Brightness')\n",
        "    plt.axis('off')\n",
        "    plt.show()\n",
        "\n",
        "    # 2. Rotate Image\n",
        "    for angle in [90, 180, 270]:\n",
        "        rotated_image = rotate_image(bright_image, angle)\n",
        "        plt.imshow(cv2.cvtColor(rotated_image, cv2.COLOR_BGR2RGB))\n",
        "        plt.title(f'Rotated {angle} Degrees')\n",
        "        plt.axis('off')\n",
        "        plt.show()\n",
        "\n",
        "    # 3. Convert to Grayscale\n",
        "    gray_image = convert_to_grayscale(bright_image)\n",
        "    plt.imshow(gray_image, cmap='gray')\n",
        "    plt.title('Grayscale Image')\n",
        "    plt.axis('off')\n",
        "    plt.show()\n",
        "\n",
        "    # 4. Flip Image\n",
        "    flipped_horizontally = flip_image(bright_image, 1)  # Flip horizontally\n",
        "    plt.imshow(cv2.cvtColor(flipped_horizontally, cv2.COLOR_BGR2RGB))\n",
        "    plt.title('Flipped Horizontally')\n",
        "    plt.axis('off')\n",
        "    plt.show()\n",
        "\n",
        "    flipped_vertically = flip_image(bright_image, 0)  # Flip vertically\n",
        "    plt.imshow(cv2.cvtColor(flipped_vertically, cv2.COLOR_BGR2RGB))\n",
        "    plt.title('Flipped Vertically')\n",
        "    plt.axis('off')\n",
        "    plt.show()\n",
        "\n",
        "    flipped_both = flip_image(bright_image, -1)  # Flip both horizontally and vertically\n",
        "    plt.imshow(cv2.cvtColor(flipped_both, cv2.COLOR_BGR2RGB))\n",
        "    plt.title('Flipped Both Horizontally and Vertically')\n",
        "    plt.axis('off')\n",
        "    plt.show()\n",
        "\n",
        "    # 5. Draw Bounding Boxes\n",
        "    boxes = [(box['x_min'], box['y_min'], box['x_max'], box['y_max']) for box in row['boxes']]  # Assuming 'boxes' is a list of bounding boxes\n",
        "    boxed_image = draw_bounding_boxes(resized_image.copy(), boxes)\n",
        "    plt.imshow(cv2.cvtColor(boxed_image, cv2.COLOR_BGR2RGB))\n"
      ],
      "metadata": {
        "id": "jqzPeSD21itN"
      },
      "execution_count": 3,
      "outputs": []
    }
  ]
}
